{
 "cells": [
  {
   "cell_type": "code",
   "execution_count": 1,
   "id": "96b71320",
   "metadata": {},
   "outputs": [],
   "source": [
    "from bs4 import BeautifulSoup\n",
    "from selenium import webdriver\n",
    "import pandas as pd\n",
    "import selenium \n",
    "from selenium import webdriver\n",
    "import time\n",
    "from selenium.webdriver.support import expected_conditions as EC\n",
    "from selenium.common.exceptions import NoSuchElementException\n",
    "driver = webdriver.Chrome(\"chromedriver[1].exe\") \n",
    "driver.implicitly_wait(2)"
   ]
  },
  {
   "cell_type": "code",
   "execution_count": 2,
   "id": "095c3767",
   "metadata": {},
   "outputs": [],
   "source": [
    "url = \"https://www.moh.gov.my/index.php/database_stores/store_view/3?items=25&page=1\"\n"
   ]
  },
  {
   "cell_type": "code",
   "execution_count": 3,
   "id": "b4f417ec",
   "metadata": {},
   "outputs": [],
   "source": [
    "driver.get(url)\n"
   ]
  },
  {
   "cell_type": "code",
   "execution_count": 10,
   "id": "c051e667",
   "metadata": {},
   "outputs": [
    {
     "ename": "SyntaxError",
     "evalue": "invalid syntax (<ipython-input-10-3ad46394a4b4>, line 1)",
     "output_type": "error",
     "traceback": [
      "\u001b[1;36m  File \u001b[1;32m\"<ipython-input-10-3ad46394a4b4>\"\u001b[1;36m, line \u001b[1;32m1\u001b[0m\n\u001b[1;33m    l=driver.find_element_by_xpath(\"//*[@id=\"223\"]/div[2]/div[4]/table/tbody/tr[1]/td[6]/a\")\u001b[0m\n\u001b[1;37m                                             ^\u001b[0m\n\u001b[1;31mSyntaxError\u001b[0m\u001b[1;31m:\u001b[0m invalid syntax\n"
     ]
    }
   ],
   "source": [
    "l=driver.find_element_by_xpath(\"//*[@id=\"223\"]/div[2]/div[4]/table/tbody/tr[1]/td[6]/a\")\n",
    "l.click()"
   ]
  },
  {
   "cell_type": "code",
   "execution_count": null,
   "id": "659b60ce",
   "metadata": {},
   "outputs": [],
   "source": [
    "parent_handle  = driver.window_handles[0]\n"
   ]
  },
  {
   "cell_type": "code",
   "execution_count": null,
   "id": "846f6aaf",
   "metadata": {},
   "outputs": [],
   "source": [
    "time.sleep(1)"
   ]
  },
  {
   "cell_type": "code",
   "execution_count": null,
   "id": "11b9a50f",
   "metadata": {},
   "outputs": [],
   "source": [
    "hospital_name=[]\n",
    "beds=[]\n",
    "address=[]\n",
    "contact_no=[]"
   ]
  },
  {
   "cell_type": "code",
   "execution_count": null,
   "id": "a7a2ada0",
   "metadata": {},
   "outputs": [],
   "source": [
    "a= driver.find_elements_by_xpath(\"//*[@id=\"223\"]/div[2]/div/table/tbody/tr[1]/td/strong\")\n",
    "for i in a:\n",
    "    hospital_name.append(i.text)"
   ]
  },
  {
   "cell_type": "code",
   "execution_count": null,
   "id": "52bf3113",
   "metadata": {},
   "outputs": [],
   "source": [
    "b= driver.find_elements_by_xpath(\"//*[@id=\"223\"]/div[2]/div/table/tbody/tr[9]/td\")\n",
    "for i in b:\n",
    "    beds.append(i.text)"
   ]
  },
  {
   "cell_type": "code",
   "execution_count": null,
   "id": "bc95e010",
   "metadata": {},
   "outputs": [],
   "source": [
    "c= driver.find_elements_by_xpath(\"//*[@id=\"223\"]/div[2]/div/table/tbody/tr[3]/td\")\n",
    "for i in c:\n",
    "    address.append(i.text)"
   ]
  },
  {
   "cell_type": "code",
   "execution_count": null,
   "id": "879cc7ae",
   "metadata": {},
   "outputs": [],
   "source": [
    "d=driver.find_elements_by_xpath(\"//*[@id=\"223\"]/div[2]/div/table/tbody/tr[6]/td\")\n",
    "for i in d:\n",
    "    contact_no.append(i.text)"
   ]
  },
  {
   "cell_type": "code",
   "execution_count": null,
   "id": "7f83f920",
   "metadata": {},
   "outputs": [],
   "source": [
    "child_handle= [x for x in driver.window_handles if x != parent_handle][0]\n",
    "driver.switch_to.window(child_handle) "
   ]
  },
  {
   "cell_type": "code",
   "execution_count": null,
   "id": "8a57806d",
   "metadata": {},
   "outputs": [],
   "source": [
    "for i in range(3):\n",
    "        print(i)\n",
    "        j=i+1\n",
    "        if j == 1:\n",
    "            driver.get('https://www.moh.gov.my/index.php/database_stores/store_view/3?items=25&page=1')\n",
    "            \n",
    "        else:\n",
    "            driver.get('https://www.moh.gov.my/index.php/database_stores/store_view/3?items=25&page=2'+str(j))\n",
    "            time.sleep(10)\n",
    "            "
   ]
  },
  {
   "cell_type": "code",
   "execution_count": null,
   "id": "546e239d",
   "metadata": {},
   "outputs": [],
   "source": [
    "driver.close()"
   ]
  },
  {
   "cell_type": "code",
   "execution_count": null,
   "id": "19d055f1",
   "metadata": {},
   "outputs": [],
   "source": [
    "\n",
    "final=pd.DataFrame({})\n",
    "final[\"a\"]=hospital_name\n",
    "final[\"b\"]=beds\n",
    "final[\"c\"]=address\n",
    "final[\"d\"]=contact_no\n",
    "final"
   ]
  }
 ],
 "metadata": {
  "kernelspec": {
   "display_name": "Python 3",
   "language": "python",
   "name": "python3"
  },
  "language_info": {
   "codemirror_mode": {
    "name": "ipython",
    "version": 3
   },
   "file_extension": ".py",
   "mimetype": "text/x-python",
   "name": "python",
   "nbconvert_exporter": "python",
   "pygments_lexer": "ipython3",
   "version": "3.8.8"
  }
 },
 "nbformat": 4,
 "nbformat_minor": 5
}
